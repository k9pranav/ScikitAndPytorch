{
 "cells": [
  {
   "cell_type": "code",
   "execution_count": 1,
   "id": "7f945211",
   "metadata": {},
   "outputs": [],
   "source": [
    "#PCA: Principal Compenent Analysis\n",
    "\n",
    "#Feature Selection is selecting which variables to use. Kind of backward elimination or forward selection in multiple\n",
    "# linear regression\n",
    "\n",
    "#Feature Extraction is deriving new information from the existing features\n",
    "# PCA: one of the ways for feature reduction\n"
   ]
  },
  {
   "cell_type": "code",
   "execution_count": 2,
   "id": "a2dd880d",
   "metadata": {},
   "outputs": [],
   "source": [
    "#PCA is unsupervised linear transformation technique. Used in feature extraction and EDA.\n",
    "#Reduces dimensionality of data. "
   ]
  },
  {
   "cell_type": "code",
   "execution_count": null,
   "id": "01e93582",
   "metadata": {},
   "outputs": [],
   "source": []
  },
  {
   "cell_type": "code",
   "execution_count": 3,
   "id": "582c4d45",
   "metadata": {},
   "outputs": [],
   "source": [
    "import pandas as pd\n",
    "\n",
    "df_wine = pd.read_csv('https://archive.ics.uci.edu/ml/machine-learning-databases/wine/wine.data', header=None)"
   ]
  },
  {
   "cell_type": "code",
   "execution_count": 4,
   "id": "8eb1dab4",
   "metadata": {},
   "outputs": [
    {
     "data": {
      "text/html": [
       "<div>\n",
       "<style scoped>\n",
       "    .dataframe tbody tr th:only-of-type {\n",
       "        vertical-align: middle;\n",
       "    }\n",
       "\n",
       "    .dataframe tbody tr th {\n",
       "        vertical-align: top;\n",
       "    }\n",
       "\n",
       "    .dataframe thead th {\n",
       "        text-align: right;\n",
       "    }\n",
       "</style>\n",
       "<table border=\"1\" class=\"dataframe\">\n",
       "  <thead>\n",
       "    <tr style=\"text-align: right;\">\n",
       "      <th></th>\n",
       "      <th>0</th>\n",
       "      <th>1</th>\n",
       "      <th>2</th>\n",
       "      <th>3</th>\n",
       "      <th>4</th>\n",
       "      <th>5</th>\n",
       "      <th>6</th>\n",
       "      <th>7</th>\n",
       "      <th>8</th>\n",
       "      <th>9</th>\n",
       "      <th>10</th>\n",
       "      <th>11</th>\n",
       "      <th>12</th>\n",
       "      <th>13</th>\n",
       "    </tr>\n",
       "  </thead>\n",
       "  <tbody>\n",
       "    <tr>\n",
       "      <th>0</th>\n",
       "      <td>1</td>\n",
       "      <td>14.23</td>\n",
       "      <td>1.71</td>\n",
       "      <td>2.43</td>\n",
       "      <td>15.6</td>\n",
       "      <td>127</td>\n",
       "      <td>2.80</td>\n",
       "      <td>3.06</td>\n",
       "      <td>0.28</td>\n",
       "      <td>2.29</td>\n",
       "      <td>5.64</td>\n",
       "      <td>1.04</td>\n",
       "      <td>3.92</td>\n",
       "      <td>1065</td>\n",
       "    </tr>\n",
       "    <tr>\n",
       "      <th>1</th>\n",
       "      <td>1</td>\n",
       "      <td>13.20</td>\n",
       "      <td>1.78</td>\n",
       "      <td>2.14</td>\n",
       "      <td>11.2</td>\n",
       "      <td>100</td>\n",
       "      <td>2.65</td>\n",
       "      <td>2.76</td>\n",
       "      <td>0.26</td>\n",
       "      <td>1.28</td>\n",
       "      <td>4.38</td>\n",
       "      <td>1.05</td>\n",
       "      <td>3.40</td>\n",
       "      <td>1050</td>\n",
       "    </tr>\n",
       "    <tr>\n",
       "      <th>2</th>\n",
       "      <td>1</td>\n",
       "      <td>13.16</td>\n",
       "      <td>2.36</td>\n",
       "      <td>2.67</td>\n",
       "      <td>18.6</td>\n",
       "      <td>101</td>\n",
       "      <td>2.80</td>\n",
       "      <td>3.24</td>\n",
       "      <td>0.30</td>\n",
       "      <td>2.81</td>\n",
       "      <td>5.68</td>\n",
       "      <td>1.03</td>\n",
       "      <td>3.17</td>\n",
       "      <td>1185</td>\n",
       "    </tr>\n",
       "    <tr>\n",
       "      <th>3</th>\n",
       "      <td>1</td>\n",
       "      <td>14.37</td>\n",
       "      <td>1.95</td>\n",
       "      <td>2.50</td>\n",
       "      <td>16.8</td>\n",
       "      <td>113</td>\n",
       "      <td>3.85</td>\n",
       "      <td>3.49</td>\n",
       "      <td>0.24</td>\n",
       "      <td>2.18</td>\n",
       "      <td>7.80</td>\n",
       "      <td>0.86</td>\n",
       "      <td>3.45</td>\n",
       "      <td>1480</td>\n",
       "    </tr>\n",
       "    <tr>\n",
       "      <th>4</th>\n",
       "      <td>1</td>\n",
       "      <td>13.24</td>\n",
       "      <td>2.59</td>\n",
       "      <td>2.87</td>\n",
       "      <td>21.0</td>\n",
       "      <td>118</td>\n",
       "      <td>2.80</td>\n",
       "      <td>2.69</td>\n",
       "      <td>0.39</td>\n",
       "      <td>1.82</td>\n",
       "      <td>4.32</td>\n",
       "      <td>1.04</td>\n",
       "      <td>2.93</td>\n",
       "      <td>735</td>\n",
       "    </tr>\n",
       "    <tr>\n",
       "      <th>...</th>\n",
       "      <td>...</td>\n",
       "      <td>...</td>\n",
       "      <td>...</td>\n",
       "      <td>...</td>\n",
       "      <td>...</td>\n",
       "      <td>...</td>\n",
       "      <td>...</td>\n",
       "      <td>...</td>\n",
       "      <td>...</td>\n",
       "      <td>...</td>\n",
       "      <td>...</td>\n",
       "      <td>...</td>\n",
       "      <td>...</td>\n",
       "      <td>...</td>\n",
       "    </tr>\n",
       "    <tr>\n",
       "      <th>173</th>\n",
       "      <td>3</td>\n",
       "      <td>13.71</td>\n",
       "      <td>5.65</td>\n",
       "      <td>2.45</td>\n",
       "      <td>20.5</td>\n",
       "      <td>95</td>\n",
       "      <td>1.68</td>\n",
       "      <td>0.61</td>\n",
       "      <td>0.52</td>\n",
       "      <td>1.06</td>\n",
       "      <td>7.70</td>\n",
       "      <td>0.64</td>\n",
       "      <td>1.74</td>\n",
       "      <td>740</td>\n",
       "    </tr>\n",
       "    <tr>\n",
       "      <th>174</th>\n",
       "      <td>3</td>\n",
       "      <td>13.40</td>\n",
       "      <td>3.91</td>\n",
       "      <td>2.48</td>\n",
       "      <td>23.0</td>\n",
       "      <td>102</td>\n",
       "      <td>1.80</td>\n",
       "      <td>0.75</td>\n",
       "      <td>0.43</td>\n",
       "      <td>1.41</td>\n",
       "      <td>7.30</td>\n",
       "      <td>0.70</td>\n",
       "      <td>1.56</td>\n",
       "      <td>750</td>\n",
       "    </tr>\n",
       "    <tr>\n",
       "      <th>175</th>\n",
       "      <td>3</td>\n",
       "      <td>13.27</td>\n",
       "      <td>4.28</td>\n",
       "      <td>2.26</td>\n",
       "      <td>20.0</td>\n",
       "      <td>120</td>\n",
       "      <td>1.59</td>\n",
       "      <td>0.69</td>\n",
       "      <td>0.43</td>\n",
       "      <td>1.35</td>\n",
       "      <td>10.20</td>\n",
       "      <td>0.59</td>\n",
       "      <td>1.56</td>\n",
       "      <td>835</td>\n",
       "    </tr>\n",
       "    <tr>\n",
       "      <th>176</th>\n",
       "      <td>3</td>\n",
       "      <td>13.17</td>\n",
       "      <td>2.59</td>\n",
       "      <td>2.37</td>\n",
       "      <td>20.0</td>\n",
       "      <td>120</td>\n",
       "      <td>1.65</td>\n",
       "      <td>0.68</td>\n",
       "      <td>0.53</td>\n",
       "      <td>1.46</td>\n",
       "      <td>9.30</td>\n",
       "      <td>0.60</td>\n",
       "      <td>1.62</td>\n",
       "      <td>840</td>\n",
       "    </tr>\n",
       "    <tr>\n",
       "      <th>177</th>\n",
       "      <td>3</td>\n",
       "      <td>14.13</td>\n",
       "      <td>4.10</td>\n",
       "      <td>2.74</td>\n",
       "      <td>24.5</td>\n",
       "      <td>96</td>\n",
       "      <td>2.05</td>\n",
       "      <td>0.76</td>\n",
       "      <td>0.56</td>\n",
       "      <td>1.35</td>\n",
       "      <td>9.20</td>\n",
       "      <td>0.61</td>\n",
       "      <td>1.60</td>\n",
       "      <td>560</td>\n",
       "    </tr>\n",
       "  </tbody>\n",
       "</table>\n",
       "<p>178 rows × 14 columns</p>\n",
       "</div>"
      ],
      "text/plain": [
       "     0      1     2     3     4    5     6     7     8     9      10    11  \\\n",
       "0     1  14.23  1.71  2.43  15.6  127  2.80  3.06  0.28  2.29   5.64  1.04   \n",
       "1     1  13.20  1.78  2.14  11.2  100  2.65  2.76  0.26  1.28   4.38  1.05   \n",
       "2     1  13.16  2.36  2.67  18.6  101  2.80  3.24  0.30  2.81   5.68  1.03   \n",
       "3     1  14.37  1.95  2.50  16.8  113  3.85  3.49  0.24  2.18   7.80  0.86   \n",
       "4     1  13.24  2.59  2.87  21.0  118  2.80  2.69  0.39  1.82   4.32  1.04   \n",
       "..   ..    ...   ...   ...   ...  ...   ...   ...   ...   ...    ...   ...   \n",
       "173   3  13.71  5.65  2.45  20.5   95  1.68  0.61  0.52  1.06   7.70  0.64   \n",
       "174   3  13.40  3.91  2.48  23.0  102  1.80  0.75  0.43  1.41   7.30  0.70   \n",
       "175   3  13.27  4.28  2.26  20.0  120  1.59  0.69  0.43  1.35  10.20  0.59   \n",
       "176   3  13.17  2.59  2.37  20.0  120  1.65  0.68  0.53  1.46   9.30  0.60   \n",
       "177   3  14.13  4.10  2.74  24.5   96  2.05  0.76  0.56  1.35   9.20  0.61   \n",
       "\n",
       "       12    13  \n",
       "0    3.92  1065  \n",
       "1    3.40  1050  \n",
       "2    3.17  1185  \n",
       "3    3.45  1480  \n",
       "4    2.93   735  \n",
       "..    ...   ...  \n",
       "173  1.74   740  \n",
       "174  1.56   750  \n",
       "175  1.56   835  \n",
       "176  1.62   840  \n",
       "177  1.60   560  \n",
       "\n",
       "[178 rows x 14 columns]"
      ]
     },
     "execution_count": 4,
     "metadata": {},
     "output_type": "execute_result"
    }
   ],
   "source": [
    "df_wine"
   ]
  },
  {
   "cell_type": "code",
   "execution_count": 5,
   "id": "e1d8b332",
   "metadata": {},
   "outputs": [],
   "source": [
    "# Splitting the data into training and testing\n",
    "\n",
    "from sklearn.model_selection import train_test_split\n",
    "\n",
    "X = df_wine.iloc[:, 1:].values\n",
    "y = df_wine.iloc[:, 0].values\n",
    "\n",
    "X_train, X_test, y_train, y_test = train_test_split(X, y, test_size=0.30, random_state=0, stratify=y)"
   ]
  },
  {
   "cell_type": "code",
   "execution_count": 6,
   "id": "702e3119",
   "metadata": {},
   "outputs": [],
   "source": [
    "# 1) Statndardizing the values\n",
    "from sklearn.preprocessing import StandardScaler\n",
    "\n",
    "sc = StandardScaler()\n",
    "\n",
    "X_train_std = sc.fit_transform(X_train)\n",
    "X_test_std = sc.transform(X_test)"
   ]
  },
  {
   "cell_type": "code",
   "execution_count": 7,
   "id": "26e05e95",
   "metadata": {},
   "outputs": [
    {
     "name": "stdout",
     "output_type": "stream",
     "text": [
      "[4.84274532 2.41602459 1.54845825 0.96120438 0.84166161 0.6620634\n",
      " 0.51828472 0.34650377 0.3131368  0.10754642 0.21357215 0.15362835\n",
      " 0.1808613 ]\n"
     ]
    }
   ],
   "source": [
    "# 2) Getting the eigenvalues and eigenvectors of the co variance matrix\n",
    "\n",
    "import numpy as np\n",
    "\n",
    "covMat = np.cov(X_train_std.T)\n",
    "eigenVals, eigenVecs = np.linalg.eig(covMat)\n",
    "print(eigenVals)"
   ]
  },
  {
   "cell_type": "code",
   "execution_count": 8,
   "id": "d06f2dbb",
   "metadata": {},
   "outputs": [
    {
     "name": "stderr",
     "output_type": "stream",
     "text": [
      "No artists with labels found to put in legend.  Note that artists whose label start with an underscore are ignored when legend() is called with no argument.\n"
     ]
    },
    {
     "data": {
      "image/png": "[encoded data removed]",
      "text/plain": [
       "<Figure size 640x480 with 1 Axes>"
      ]
     },
     "metadata": {},
     "output_type": "display_data"
    }
   ],
   "source": [
    "#Now, we need to select the principal components, ie eigen vectors, that give the most information, ie variance.\n",
    "# We want the top n eigen vectors based on their eigen values\n",
    "# Variance explained ratios: eigenvalue/sum of all eigenvalues\n",
    "\n",
    "import matplotlib.pyplot as plt\n",
    "\n",
    "totEigenVal = sum(eigenVals)\n",
    "var_exp = [(i / totEigenVal) for i in sorted(eigenVals, reverse=True)]\n",
    "cumVarExp = np.cumsum(var_exp)\n",
    "\n",
    "plt.bar(range(1,14), var_exp, align = 'center')\n",
    "plt.step(range(1,14), cumVarExp, where = 'mid')\n",
    "plt.legend(loc = 'best')\n",
    "plt.tight_layout()\n",
    "plt.show()"
   ]
  },
  {
   "cell_type": "code",
   "execution_count": 9,
   "id": "b51f0ed4",
   "metadata": {},
   "outputs": [],
   "source": [
    "# Now, sort the eigenvalue and eigenvector pairs\n",
    "\n",
    "eigenPairs = [(np.abs(eigenVals[i]), eigenVecs[:,i])\n",
    "             for i in range(len(eigenVals))]\n",
    "\n",
    "#the linalg.eig function is a bit weird. to get the first eigen vector, u need the first element of every sublist. for\n",
    "# the second eigen vector, u need the second element of every sublist\n",
    "\n",
    "eigenPairs.sort(key=lambda k: k[0], reverse = True)"
   ]
  },
  {
   "cell_type": "code",
   "execution_count": 10,
   "id": "6ee4dfc1",
   "metadata": {},
   "outputs": [
    {
     "data": {
      "text/plain": [
       "array([[-0.13724218,  0.50303478],\n",
       "       [ 0.24724326,  0.16487119],\n",
       "       [-0.02545159,  0.24456476],\n",
       "       [ 0.20694508, -0.11352904],\n",
       "       [-0.15436582,  0.28974518],\n",
       "       [-0.39376952,  0.05080104],\n",
       "       [-0.41735106, -0.02287338],\n",
       "       [ 0.30572896,  0.09048885],\n",
       "       [-0.30668347,  0.00835233],\n",
       "       [ 0.07554066,  0.54977581],\n",
       "       [-0.32613263, -0.20716433],\n",
       "       [-0.36861022, -0.24902536],\n",
       "       [-0.29669651,  0.38022942]])"
      ]
     },
     "execution_count": 10,
     "metadata": {},
     "output_type": "execute_result"
    }
   ],
   "source": [
    "#Selecting the first 2 eigenvectors, corresponding to the largest eigenvalue. This explains 60% of the variance, ie\n",
    "# (eigenvalue1 + eigenvalue2)/sum(eigenvalue) = 0.6\n",
    "\n",
    "# We make a nxk matrix from the eigenvectors. Here, k is the number of eigenvalues chosen, which in this case is 2\n",
    "\n",
    "firstVec = eigenPairs[0][1]\n",
    "secondVec = eigenPairs[1][1]\n",
    "\n",
    "w = np.c_[firstVec, secondVec]\n",
    "\n",
    "w"
   ]
  },
  {
   "cell_type": "code",
   "execution_count": 11,
   "id": "c10f62b4",
   "metadata": {},
   "outputs": [],
   "source": [
    "# Dot product the training dataset with the vector matrix\n",
    "\n",
    "X_train_pca = X_train_std.dot(w)\n",
    "\n",
    "# X_train_std has 124 rows and 13 columns\n",
    "# w has 13 rows and 2 columns \n",
    "# X_train_pca is a 123 rows and 2 columns "
   ]
  },
  {
   "cell_type": "code",
   "execution_count": 12,
   "id": "05747222",
   "metadata": {},
   "outputs": [
    {
     "data": {
      "image/png": "[encoded data removed]",
      "text/plain": [
       "<Figure size 640x480 with 1 Axes>"
      ]
     },
     "metadata": {},
     "output_type": "display_data"
    }
   ],
   "source": [
    "# Visualizing the X_train_pca\n",
    "\n",
    "colors = ['r', 'b', 'g']\n",
    "\n",
    "markers = ['o', 's', '^']\n",
    "\n",
    "for l, c, m in zip(np.unique(y_train), colors, markers):\n",
    "    plt.scatter(X_train_pca[y_train == l, 0],\n",
    "               X_train_pca[y_train == l, 1],\n",
    "               c=c, marker=m)\n",
    "    \n",
    "\n",
    "    \n",
    "plt.xlabel('PC 1')\n",
    "plt.ylabel('PC 2')\n",
    "plt.tight_layout()\n",
    "plt.show()"
   ]
  },
  {
   "cell_type": "code",
   "execution_count": 13,
   "id": "8c87da9c",
   "metadata": {},
   "outputs": [],
   "source": [
    "from matplotlib.colors import ListedColormap\n",
    "\n",
    "def plot_decision_regions(X, y, classifier, test_idx=None,\n",
    "                          resolution=0.02):\n",
    "    # setup marker generator and color map\n",
    "    markers = ('o', 's', '^', 'v', '<')\n",
    "    colors = ('red', 'blue', 'lightgreen', 'gray', 'cyan')\n",
    "    cmap = ListedColormap(colors[:len(np.unique(y))])\n",
    "    # plot the decision surface\n",
    "    x1_min, x1_max = X[:, 0].min() - 1, X[:, 0].max() + 1\n",
    "    x2_min, x2_max = X[:, 1].min() - 1, X[:, 1].max() + 1\n",
    "    xx1, xx2 = np.meshgrid(np.arange(x1_min, x1_max, resolution),\n",
    "                           np.arange(x2_min, x2_max, resolution))\n",
    "    lab = classifier.predict(np.array([xx1.ravel(), xx2.ravel()]).T)\n",
    "    lab = lab.reshape(xx1.shape)\n",
    "    plt.contourf(xx1, xx2, lab, alpha=0.3, cmap=cmap)\n",
    "    plt.xlim(xx1.min(), xx1.max())\n",
    "    plt.ylim(xx2.min(), xx2.max())\n",
    "    # plot class examples\n",
    "    for idx, cl in enumerate(np.unique(y)):\n",
    "        plt.scatter(x=X[y == cl, 0],\n",
    "                    y=X[y == cl, 1],\n",
    "                    alpha=0.8,\n",
    "                    c=colors[idx],\n",
    "                    marker=markers[idx],\n",
    "                    label=f'Class {cl}',\n",
    "                    edgecolor='black')\n",
    "    # highlight test examples\n",
    "    if test_idx:\n",
    "        # plot all examples\n",
    "        X_test, y_test = X[test_idx, :], y[test_idx]\n",
    "        \n",
    "        plt.scatter(X_test[:, 0], X_test[:, 1],\n",
    "                    c='none', edgecolor='black', alpha=1.0,\n",
    "                    linewidth=1, marker='o',\n",
    "                    s=100, label='Test set')"
   ]
  },
  {
   "cell_type": "code",
   "execution_count": 14,
   "id": "9a62a3f5",
   "metadata": {},
   "outputs": [
    {
     "data": {
      "image/png": "[encoded data removed]",
      "text/plain": [
       "<Figure size 640x480 with 1 Axes>"
      ]
     },
     "metadata": {},
     "output_type": "display_data"
    }
   ],
   "source": [
    "#PCA in sciki\n",
    "\n",
    "from sklearn.linear_model import LogisticRegression\n",
    "from sklearn.decomposition import PCA\n",
    "\n",
    "pca = PCA(n_components=2) #Will select only 2 eigen values\n",
    "\n",
    "lr = LogisticRegression(multi_class='ovr', random_state=1, solver='lbfgs')\n",
    "\n",
    "# Dimension reduction using sckikit\n",
    "X_train_pca = pca.fit_transform(X_train_std)\n",
    "X_test_pca = pca.transform(X_test_std)\n",
    "\n",
    "lr.fit(X_train_pca, y_train)\n",
    "\n",
    "plot_decision_regions(X_train_pca, y_train, classifier=lr)\n",
    "plt.xlabel('PC 1')\n",
    "plt.ylabel('PC 2')\n",
    "plt.legend(loc = 'lower left')\n",
    "plt.tight_layout()\n",
    "plt.show()\n",
    "\n"
   ]
  },
  {
   "cell_type": "code",
   "execution_count": 15,
   "id": "69a66792",
   "metadata": {},
   "outputs": [
    {
     "data": {
      "image/png": "[encoded data removed]",
      "text/plain": [
       "<Figure size 640x480 with 1 Axes>"
      ]
     },
     "metadata": {},
     "output_type": "display_data"
    }
   ],
   "source": [
    "plot_decision_regions(X_test_pca, y_test, classifier=lr)\n",
    "plt.xlabel('PC 1')\n",
    "plt.ylabel('PC 2')\n",
    "plt.legend(loc = 'lower left')\n",
    "plt.tight_layout()\n",
    "plt.show()\n"
   ]
  },
  {
   "cell_type": "code",
   "execution_count": null,
   "id": "35671d6c",
   "metadata": {},
   "outputs": [],
   "source": []
  },
  {
   "cell_type": "code",
   "execution_count": 16,
   "id": "2aa315cb",
   "metadata": {},
   "outputs": [
    {
     "data": {
      "image/png": "[encoded data removed]",
      "text/plain": [
       "<Figure size 640x480 with 1 Axes>"
      ]
     },
     "metadata": {},
     "output_type": "display_data"
    }
   ],
   "source": [
    "# Assessing Feature combinations:\n",
    "# How much do the original features contribute to principal components?\n",
    "# We asses this by loadings\n",
    "\n",
    "# factor loadings: scaling the eigenvectors by the square root of the eigenvalues\n",
    "\n",
    "loadings = eigenVecs * np.sqrt(eigenVals)\n",
    "\n",
    "fig, ax = plt.subplots()\n",
    "\n",
    "ax.bar(range(13), loadings[:, 0], align = 'center')\n",
    "ax.set_ylabel('Loadings for PC 1')\n",
    "\n",
    "ax.set_xticks(range(13))\n",
    "\n",
    "ax.set_xticklabels(df_wine.columns[1:], rotation = 90)\n",
    "\n",
    "plt.ylim([-1, 1])\n",
    "plt.tight_layout()\n",
    "plt.show()\n"
   ]
  },
  {
   "cell_type": "raw",
   "id": "efa4521a",
   "metadata": {},
   "source": []
  },
  {
   "cell_type": "code",
   "execution_count": 17,
   "id": "b8557348",
   "metadata": {},
   "outputs": [],
   "source": [
    "#Obtaining loadings from the scikit learn\n",
    "\n",
    "sklearnLoadings = pca.components_.T * np.sqrt(pca.explained_variance_)"
   ]
  },
  {
   "cell_type": "code",
   "execution_count": 18,
   "id": "dffd4ace",
   "metadata": {},
   "outputs": [
    {
     "data": {
      "text/plain": [
       "<BarContainer object of 13 artists>"
      ]
     },
     "execution_count": 18,
     "metadata": {},
     "output_type": "execute_result"
    },
    {
     "data": {
      "image/png": "[encoded data removed]",
      "text/plain": [
       "<Figure size 640x480 with 1 Axes>"
      ]
     },
     "metadata": {},
     "output_type": "display_data"
    }
   ],
   "source": [
    "fig, ax = plt.subplots()\n",
    "\n",
    "ax.bar(range(sklearnLoadings.shape[0]), sklearnLoadings[:, 0], align = 'center')"
   ]
  },
  {
   "cell_type": "code",
   "execution_count": null,
   "id": "4a6d52df",
   "metadata": {},
   "outputs": [],
   "source": []
  },
  {
   "cell_type": "code",
   "execution_count": null,
   "id": "8cd7ee21",
   "metadata": {},
   "outputs": [],
   "source": []
  },
  {
   "cell_type": "code",
   "execution_count": 19,
   "id": "bfbac009",
   "metadata": {},
   "outputs": [],
   "source": [
    "#LDA:Linear Discriminant Analysis\n",
    "\n",
    "# Another approach for feature extraction. Aims to find the feature subspace that optimizes class separability\n",
    "\n",
    "#LDA Steps\n",
    "\n",
    "# 1) Standardize the d-dimensional dataset (d is the number of features, ie independent columns)\n",
    "# 2) compute d-dimensional mean vector\n",
    "# 3) Construct between-class scatter matrix Sb, within-class scatter matrix Sx\n",
    "# 4) Get eigenvectors and eigenvalues of Sw^(-1)Sb\n",
    "# 5) Sort eigenvalues by decreaing order\n",
    "# 6) Chose k eigen vectors corresponding to k largest eigen values\n",
    "# 7) Construct the dxk dimensional matrix (w), where k is ur eigenvectors\n",
    "# 8) Project examples onto the new feature subspace using transformation matrix w\n",
    "\n",
    "\n",
    "# mean vector -> containes the mean of every column corresponding to a category.\n",
    "# In our case, we have 3 categories, so, we will have 3 mean vectors"
   ]
  },
  {
   "cell_type": "code",
   "execution_count": 20,
   "id": "cb52cd5c",
   "metadata": {},
   "outputs": [
    {
     "name": "stdout",
     "output_type": "stream",
     "text": [
      "1 [ 0.9066 -0.3497  0.3201 -0.7189  0.5056  0.8807  0.9589 -0.5516  0.5416\n",
      "  0.2338  0.5897  0.6563  1.2075]\n",
      "2 [-0.8749 -0.2848 -0.3735  0.3157 -0.3848 -0.0433  0.0635 -0.0946  0.0703\n",
      " -0.8286  0.3144  0.3608 -0.7253]\n",
      "3 [ 0.1992  0.866   0.1682  0.4148 -0.0451 -1.0286 -1.2876  0.8287 -0.7795\n",
      "  0.9649 -1.209  -1.3622 -0.4013]\n"
     ]
    }
   ],
   "source": [
    "np.set_printoptions(precision = 4)\n",
    "\n",
    "meanVecs = []\n",
    "\n",
    "for label in range(1,4):\n",
    "    meanVecs.append(np.mean(\n",
    "    X_train_std[y_train == label], axis = 0))\n",
    "    \n",
    "    print(label, meanVecs[label - 1])"
   ]
  },
  {
   "cell_type": "code",
   "execution_count": 21,
   "id": "ab649d62",
   "metadata": {},
   "outputs": [],
   "source": [
    "# Within class matrix -> variablility within a class, which we want to minimize.\n",
    "# https://www.geeksforgeeks.org/problem-solving-on-scatter-matrix/ refer to it\n",
    "\n"
   ]
  },
  {
   "cell_type": "code",
   "execution_count": 22,
   "id": "f4b4e627",
   "metadata": {},
   "outputs": [
    {
     "name": "stdout",
     "output_type": "stream",
     "text": [
      "13x13\n"
     ]
    }
   ],
   "source": [
    "\n",
    "\n",
    "d = 13 #Number of features\n",
    "\n",
    "S_W = np.zeros((d, d))\n",
    "\n",
    "for label, mv in zip(range(1,4), meanVecs):\n",
    "    classScatter  = np.zeros((d,d))\n",
    "    \n",
    "    for row in X_train_std[y_train == label]:\n",
    "        row, mv = row.reshape(d, 1), mv.reshape(d, 1)\n",
    "        classScatter += (row - mv).dot((row - mv).T)\n",
    "    \n",
    "    S_W += classScatter\n",
    "\n",
    "print(f'{S_W.shape[0]}x{S_W.shape[1]}')"
   ]
  },
  {
   "cell_type": "code",
   "execution_count": 23,
   "id": "caff0087",
   "metadata": {},
   "outputs": [
    {
     "name": "stdout",
     "output_type": "stream",
     "text": [
      "(13, 13)\n"
     ]
    }
   ],
   "source": [
    "# Calculating S_B, between class scatter matrix\n",
    "\n",
    "mean_overall = np.mean(X_train_std, axis = 0)\n",
    "mean_overall = mean_overall.reshape(d, 1)\n",
    "d = 13\n",
    "S_B = np.zeros((d, d))\n",
    "\n",
    "for i, mean_vec in enumerate(meanVecs):\n",
    "    n = X_train_std[y_train == i + 1, :].shape[0]\n",
    "    mean_vec = mean_vec.reshape(d, 1)\n",
    "    S_B += n * (mean_vec - mean_overall).dot((mean_vec - mean_overall).T)\n",
    "    \n",
    "print(S_B.shape)\n"
   ]
  },
  {
   "cell_type": "code",
   "execution_count": 24,
   "id": "1f3428ee",
   "metadata": {},
   "outputs": [],
   "source": [
    "#Get eigenvectors and eigenvalues of Sw^(-1)Sb\n",
    "\n",
    "LDAeigenVal, LDAeigenVec = np.linalg.eig(np.linalg.inv(S_W).dot(S_B))"
   ]
  },
  {
   "cell_type": "code",
   "execution_count": 25,
   "id": "ca94bd8a",
   "metadata": {},
   "outputs": [
    {
     "name": "stdout",
     "output_type": "stream",
     "text": [
      "8.262493673957486\n",
      "4.225659486916684\n",
      "7.3279253644994425e-16\n",
      "7.3279253644994425e-16\n",
      "6.9927830613954e-16\n",
      "6.9927830613954e-16\n",
      "4.650103617447212e-16\n",
      "4.650103617447212e-16\n",
      "3.9946857680717484e-16\n",
      "3.750885040154728e-16\n",
      "1.052273018681743e-16\n",
      "6.896074373387596e-17\n",
      "0.0\n"
     ]
    }
   ],
   "source": [
    "LDAeigenPairs = [(np.abs(LDAeigenVal[i]), LDAeigenVec[:, i])\n",
    "                for i in range(len(LDAeigenVal))]\n",
    "\n",
    "LDAeigenPairs = sorted(LDAeigenPairs, key = lambda k: k[0], reverse = True)\n",
    "\n",
    "for i in LDAeigenPairs:\n",
    "    print(i[0])"
   ]
  },
  {
   "cell_type": "code",
   "execution_count": 26,
   "id": "b531e757",
   "metadata": {},
   "outputs": [
    {
     "name": "stderr",
     "output_type": "stream",
     "text": [
      "No artists with labels found to put in legend.  Note that artists whose label start with an underscore are ignored when legend() is called with no argument.\n"
     ]
    },
    {
     "data": {
      "image/png": "[encoded data removed]",
      "text/plain": [
       "<Figure size 640x480 with 1 Axes>"
      ]
     },
     "metadata": {},
     "output_type": "display_data"
    }
   ],
   "source": [
    "#Plotting the class-discriminatory information, similar to variance in PCA\n",
    "\n",
    "tot = sum(LDAeigenVal.real)\n",
    "\n",
    "discr = [(i/tot) for i in sorted(LDAeigenVal.real, reverse=True)]\n",
    "\n",
    "cum_discr = np.cumsum(discr)\n",
    "\n",
    "plt.bar(range(1,14), discr, align = 'center')\n",
    "plt.step(range(1,14), cum_discr, where = 'mid')\n",
    "plt.legend(loc = 'best')\n",
    "plt.tight_layout()\n",
    "plt.show()"
   ]
  },
  {
   "cell_type": "code",
   "execution_count": 27,
   "id": "b1df0d08",
   "metadata": {},
   "outputs": [
    {
     "data": {
      "text/plain": [
       "array([[-0.1586+0.j, -0.4077+0.j],\n",
       "       [ 0.0984+0.j, -0.1821+0.j],\n",
       "       [-0.0156+0.j, -0.3473+0.j],\n",
       "       [ 0.1588+0.j,  0.3095+0.j],\n",
       "       [-0.0207+0.j, -0.064 +0.j],\n",
       "       [ 0.1884+0.j,  0.0733+0.j],\n",
       "       [-0.7153+0.j,  0.3034+0.j],\n",
       "       [-0.0798+0.j, -0.0009+0.j],\n",
       "       [ 0.0074+0.j,  0.0716+0.j],\n",
       "       [ 0.3448+0.j, -0.2808+0.j],\n",
       "       [-0.0254+0.j,  0.244 +0.j],\n",
       "       [-0.3192+0.j, -0.0459+0.j],\n",
       "       [-0.4054+0.j, -0.5806+0.j]])"
      ]
     },
     "execution_count": 27,
     "metadata": {},
     "output_type": "execute_result"
    }
   ],
   "source": [
    "#Top 2 eigen values capture 100% of the information.\n",
    "\n",
    "#making a matrix of the top 2 eigenvectors\n",
    "\n",
    "w = np.c_[LDAeigenPairs[0][1], LDAeigenPairs[1][1]]\n",
    "w"
   ]
  },
  {
   "cell_type": "code",
   "execution_count": 28,
   "id": "312877f6",
   "metadata": {},
   "outputs": [
    {
     "name": "stderr",
     "output_type": "stream",
     "text": [
      "/usr/lib/python3/dist-packages/matplotlib/collections.py:200: ComplexWarning: Casting complex values to real discards the imaginary part\n",
      "  offsets = np.asanyarray(offsets, float)\n"
     ]
    },
    {
     "data": {
      "text/plain": [
       "Text(0, 0.5, 'LD 2')"
      ]
     },
     "execution_count": 28,
     "metadata": {},
     "output_type": "execute_result"
    },
    {
     "data": {
      "image/png": "[encoded data removed]",
      "text/plain": [
       "<Figure size 640x480 with 1 Axes>"
      ]
     },
     "metadata": {},
     "output_type": "display_data"
    }
   ],
   "source": [
    "#Projecting examples into new feature space\n",
    "\n",
    "X_train_lda = X_train_std.dot(w)\n",
    "\n",
    "colors = ['r', 'b', 'g']\n",
    "markers = ['o', 's', '^']\n",
    "\n",
    "for l, c, m in zip(np.unique(y_train), colors, markers):\n",
    "    plt.scatter(X_train_lda[y_train == l, 0],\n",
    "               X_train_lda[y_train == l, 1] * (-1),\n",
    "               c = c, marker=m)\n",
    "    \n",
    "plt.xlabel('LD 1')\n",
    "plt.ylabel('LD 2')\n",
    "\n"
   ]
  },
  {
   "cell_type": "code",
   "execution_count": 29,
   "id": "23824ae3",
   "metadata": {},
   "outputs": [
    {
     "data": {
      "image/png": "[encoded data removed]",
      "text/plain": [
       "<Figure size 640x480 with 1 Axes>"
      ]
     },
     "metadata": {},
     "output_type": "display_data"
    }
   ],
   "source": [
    "#LDA from scikit\n",
    "\n",
    "from sklearn.discriminant_analysis import LinearDiscriminantAnalysis as LDA\n",
    "\n",
    "lda = LDA(n_components = 2)\n",
    "\n",
    "X_train_lda = lda.fit_transform(X_train, y_train)\n",
    "\n",
    "lr = LogisticRegression(multi_class='ovr', random_state=1, solver = 'lbfgs')\n",
    "\n",
    "lr = lr.fit(X_train_lda, y_train)\n",
    "\n",
    "plot_decision_regions(X_train_lda, y_train, classifier=lr)\n",
    "\n",
    "plt.xlabel('LD 1')\n",
    "plt.ylabel('LD 2')\n",
    "plt.legend(loc = 'best')\n",
    "plt.tight_layout()\n",
    "plt.show()"
   ]
  },
  {
   "cell_type": "code",
   "execution_count": 30,
   "id": "2af45c4a",
   "metadata": {},
   "outputs": [
    {
     "data": {
      "image/png": "[encoded data removed]",
      "text/plain": [
       "<Figure size 640x480 with 1 Axes>"
      ]
     },
     "metadata": {},
     "output_type": "display_data"
    }
   ],
   "source": [
    "# Fitting it to test data\n",
    "\n",
    "X_test_lda = lda.transform(X_test_std)\n",
    "\n",
    "plot_decision_regions(X_test_lda, y_test, classifier=lr)\n",
    "plt.tight_layout()\n",
    "plt.show()"
   ]
  },
  {
   "cell_type": "code",
   "execution_count": 33,
   "id": "00a9ee03",
   "metadata": {},
   "outputs": [],
   "source": [
    "#LDA and PCA are linear transformation for feature extraction\n",
    "\n",
    "# The linear transformation models have an underlying assumption that there exists a linear seperation. \n",
    "# Linear seperation is the assumption that different classes/groups that need to be predicted, can be seperated \n",
    "# by a line\n",
    "\n",
    "# https://scikit-learn.org/stable/modules/manifold.html -> some non-linear feature extraction\n",
    "\n",
    "# t-distributed stochastic neighbour - nonlinear feature extraction\n",
    "\n"
   ]
  },
  {
   "cell_type": "code",
   "execution_count": null,
   "id": "a5123f6a",
   "metadata": {},
   "outputs": [],
   "source": [
    "#t-SNE -> Used for visualizing complex datasets onto 2 or 3 dimensions\n"
   ]
  },
  {
   "cell_type": "code",
   "execution_count": null,
   "id": "8b154e37",
   "metadata": {},
   "outputs": [],
   "source": []
  },
  {
   "cell_type": "code",
   "execution_count": null,
   "id": "1dd8e15f",
   "metadata": {},
   "outputs": [],
   "source": []
  },
  {
   "cell_type": "code",
   "execution_count": 31,
   "id": "cd5393e3",
   "metadata": {},
   "outputs": [
    {
     "data": {
      "text/plain": [
       "(124, 2)"
      ]
     },
     "execution_count": 31,
     "metadata": {},
     "output_type": "execute_result"
    }
   ],
   "source": [
    "X_train_lda.shape"
   ]
  },
  {
   "cell_type": "code",
   "execution_count": 32,
   "id": "1fdf6632",
   "metadata": {},
   "outputs": [
    {
     "data": {
      "text/plain": [
       "(124, 13)"
      ]
     },
     "execution_count": 32,
     "metadata": {},
     "output_type": "execute_result"
    }
   ],
   "source": [
    "X_train_std.shape"
   ]
  },
  {
   "cell_type": "code",
   "execution_count": null,
   "id": "baa66fe8",
   "metadata": {},
   "outputs": [],
   "source": []
  },
  {
   "cell_type": "code",
   "execution_count": null,
   "id": "3753afc4",
   "metadata": {},
   "outputs": [],
   "source": []
  },
  {
   "cell_type": "code",
   "execution_count": null,
   "id": "6aef1095",
   "metadata": {},
   "outputs": [],
   "source": []
  }
 ],
 "metadata": {
  "kernelspec": {
   "display_name": "Python 3 (ipykernel)",
   "language": "python",
   "name": "python3"
  },
  "language_info": {
   "codemirror_mode": {
    "name": "ipython",
    "version": 3
   },
   "file_extension": ".py",
   "mimetype": "text/x-python",
   "name": "python",
   "nbconvert_exporter": "python",
   "pygments_lexer": "ipython3",
   "version": "3.10.12"
  }
 },
 "nbformat": 4,
 "nbformat_minor": 5
}
