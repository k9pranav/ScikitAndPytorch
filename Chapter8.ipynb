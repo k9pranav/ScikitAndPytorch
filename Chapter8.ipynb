{
 "cells": [
  {
   "cell_type": "code",
   "execution_count": 1,
   "id": "982fe6bd",
   "metadata": {},
   "outputs": [],
   "source": [
    "#Machine Learning on Sentiment Analysis\n",
    "import pyprind\n",
    "import pandas as pd\n",
    "import os\n",
    "import sys\n",
    "\n"
   ]
  },
  {
   "cell_type": "code",
   "execution_count": 11,
   "id": "6ba5c189",
   "metadata": {},
   "outputs": [],
   "source": [
    "basepath = '/home/pranav/Documents/ScikitAndPytorch/aclImdb'"
   ]
  },
  {
   "cell_type": "code",
   "execution_count": 41,
   "id": "97921d8a",
   "metadata": {},
   "outputs": [
    {
     "name": "stdout",
     "output_type": "stream",
     "text": [
      "0% [##############################] 100% | ETA: 00:00:00\n",
      "Total time elapsed: 00:00:01\n"
     ]
    }
   ],
   "source": [
    "labels = {'pos':1, 'neg':0} \n",
    "\n",
    "pbar = pyprind.ProgBar(50000, stream=sys.stdout)\n",
    "\n",
    "df = pd.DataFrame()\n",
    "\n",
    "dataFrameList = []\n",
    "\n",
    "for s in ('test', 'train'):\n",
    "    for l in ('pos', 'neg'):\n",
    "        path = os.path.join(basepath, s, l)\n",
    "        \n",
    "        for file in sorted(os.listdir(path)):\n",
    "            infile = open(os.path.join(path, file))\n",
    "            txt = infile.read()\n",
    "            dataFrameList.append([txt, labels[l]])\n",
    "            \n",
    "            pbar.update()\n",
    "\n"
   ]
  },
  {
   "cell_type": "code",
   "execution_count": 44,
   "id": "1b1e270a",
   "metadata": {},
   "outputs": [],
   "source": [
    "df = pd.DataFrame(data=dataFrameList, columns=['Review', 'Sentiment'])"
   ]
  },
  {
   "cell_type": "code",
   "execution_count": 45,
   "id": "0a931d47",
   "metadata": {},
   "outputs": [
    {
     "data": {
      "text/html": [
       "<div>\n",
       "<style scoped>\n",
       "    .dataframe tbody tr th:only-of-type {\n",
       "        vertical-align: middle;\n",
       "    }\n",
       "\n",
       "    .dataframe tbody tr th {\n",
       "        vertical-align: top;\n",
       "    }\n",
       "\n",
       "    .dataframe thead th {\n",
       "        text-align: right;\n",
       "    }\n",
       "</style>\n",
       "<table border=\"1\" class=\"dataframe\">\n",
       "  <thead>\n",
       "    <tr style=\"text-align: right;\">\n",
       "      <th></th>\n",
       "      <th>Review</th>\n",
       "      <th>Sentiment</th>\n",
       "    </tr>\n",
       "  </thead>\n",
       "  <tbody>\n",
       "    <tr>\n",
       "      <th>0</th>\n",
       "      <td>I went and saw this movie last night after bei...</td>\n",
       "      <td>1</td>\n",
       "    </tr>\n",
       "    <tr>\n",
       "      <th>1</th>\n",
       "      <td>Actor turned director Bill Paxton follows up h...</td>\n",
       "      <td>1</td>\n",
       "    </tr>\n",
       "    <tr>\n",
       "      <th>2</th>\n",
       "      <td>As a recreational golfer with some knowledge o...</td>\n",
       "      <td>1</td>\n",
       "    </tr>\n",
       "    <tr>\n",
       "      <th>3</th>\n",
       "      <td>I saw this film in a sneak preview, and it is ...</td>\n",
       "      <td>1</td>\n",
       "    </tr>\n",
       "    <tr>\n",
       "      <th>4</th>\n",
       "      <td>Bill Paxton has taken the true story of the 19...</td>\n",
       "      <td>1</td>\n",
       "    </tr>\n",
       "    <tr>\n",
       "      <th>...</th>\n",
       "      <td>...</td>\n",
       "      <td>...</td>\n",
       "    </tr>\n",
       "    <tr>\n",
       "      <th>49995</th>\n",
       "      <td>Towards the end of the movie, I felt it was to...</td>\n",
       "      <td>0</td>\n",
       "    </tr>\n",
       "    <tr>\n",
       "      <th>49996</th>\n",
       "      <td>This is the kind of movie that my enemies cont...</td>\n",
       "      <td>0</td>\n",
       "    </tr>\n",
       "    <tr>\n",
       "      <th>49997</th>\n",
       "      <td>I saw 'Descent' last night at the Stockholm Fi...</td>\n",
       "      <td>0</td>\n",
       "    </tr>\n",
       "    <tr>\n",
       "      <th>49998</th>\n",
       "      <td>Some films that you pick up for a pound turn o...</td>\n",
       "      <td>0</td>\n",
       "    </tr>\n",
       "    <tr>\n",
       "      <th>49999</th>\n",
       "      <td>This is one of the dumbest films, I've ever se...</td>\n",
       "      <td>0</td>\n",
       "    </tr>\n",
       "  </tbody>\n",
       "</table>\n",
       "<p>50000 rows × 2 columns</p>\n",
       "</div>"
      ],
      "text/plain": [
       "                                                  Review  Sentiment\n",
       "0      I went and saw this movie last night after bei...          1\n",
       "1      Actor turned director Bill Paxton follows up h...          1\n",
       "2      As a recreational golfer with some knowledge o...          1\n",
       "3      I saw this film in a sneak preview, and it is ...          1\n",
       "4      Bill Paxton has taken the true story of the 19...          1\n",
       "...                                                  ...        ...\n",
       "49995  Towards the end of the movie, I felt it was to...          0\n",
       "49996  This is the kind of movie that my enemies cont...          0\n",
       "49997  I saw 'Descent' last night at the Stockholm Fi...          0\n",
       "49998  Some films that you pick up for a pound turn o...          0\n",
       "49999  This is one of the dumbest films, I've ever se...          0\n",
       "\n",
       "[50000 rows x 2 columns]"
      ]
     },
     "execution_count": 45,
     "metadata": {},
     "output_type": "execute_result"
    }
   ],
   "source": [
    "df"
   ]
  },
  {
   "cell_type": "code",
   "execution_count": 46,
   "id": "080cf0a0",
   "metadata": {},
   "outputs": [],
   "source": [
    "import numpy as np\n",
    "np.random.seed(0)\n",
    "\n",
    "df = df.reindex(np.random.permutation(df.index))\n",
    "df.to_csv('movie_data.csv', index=False, encoding = 'utf-8')"
   ]
  },
  {
   "cell_type": "code",
   "execution_count": 47,
   "id": "c59ce423",
   "metadata": {},
   "outputs": [
    {
     "data": {
      "text/html": [
       "<div>\n",
       "<style scoped>\n",
       "    .dataframe tbody tr th:only-of-type {\n",
       "        vertical-align: middle;\n",
       "    }\n",
       "\n",
       "    .dataframe tbody tr th {\n",
       "        vertical-align: top;\n",
       "    }\n",
       "\n",
       "    .dataframe thead th {\n",
       "        text-align: right;\n",
       "    }\n",
       "</style>\n",
       "<table border=\"1\" class=\"dataframe\">\n",
       "  <thead>\n",
       "    <tr style=\"text-align: right;\">\n",
       "      <th></th>\n",
       "      <th>Review</th>\n",
       "      <th>Sentiment</th>\n",
       "    </tr>\n",
       "  </thead>\n",
       "  <tbody>\n",
       "    <tr>\n",
       "      <th>11841</th>\n",
       "      <td>In 1974, the teenager Martha Moxley (Maggie Gr...</td>\n",
       "      <td>1</td>\n",
       "    </tr>\n",
       "    <tr>\n",
       "      <th>19602</th>\n",
       "      <td>OK... so... I really like Kris Kristofferson a...</td>\n",
       "      <td>0</td>\n",
       "    </tr>\n",
       "    <tr>\n",
       "      <th>45519</th>\n",
       "      <td>***SPOILER*** Do not read this, if you think a...</td>\n",
       "      <td>0</td>\n",
       "    </tr>\n",
       "    <tr>\n",
       "      <th>25747</th>\n",
       "      <td>hi for all the people who have seen this wonde...</td>\n",
       "      <td>1</td>\n",
       "    </tr>\n",
       "    <tr>\n",
       "      <th>42642</th>\n",
       "      <td>I recently bought the DVD, forgetting just how...</td>\n",
       "      <td>0</td>\n",
       "    </tr>\n",
       "  </tbody>\n",
       "</table>\n",
       "</div>"
      ],
      "text/plain": [
       "                                                  Review  Sentiment\n",
       "11841  In 1974, the teenager Martha Moxley (Maggie Gr...          1\n",
       "19602  OK... so... I really like Kris Kristofferson a...          0\n",
       "45519  ***SPOILER*** Do not read this, if you think a...          0\n",
       "25747  hi for all the people who have seen this wonde...          1\n",
       "42642  I recently bought the DVD, forgetting just how...          0"
      ]
     },
     "execution_count": 47,
     "metadata": {},
     "output_type": "execute_result"
    }
   ],
   "source": [
    "df.head()"
   ]
  },
  {
   "cell_type": "code",
   "execution_count": 48,
   "id": "6f1e5515",
   "metadata": {},
   "outputs": [
    {
     "data": {
      "text/plain": [
       "(50000, 2)"
      ]
     },
     "execution_count": 48,
     "metadata": {},
     "output_type": "execute_result"
    }
   ],
   "source": [
    "import numpy as np\n",
    "from sklearn.feature_extraction.text import CountVectorizer\n",
    "count = CountVectorizer()\n",
    "\n"
   ]
  },
  {
   "cell_type": "code",
   "execution_count": null,
   "id": "21ec99d5",
   "metadata": {},
   "outputs": [],
   "source": []
  },
  {
   "cell_type": "code",
   "execution_count": null,
   "id": "8456dfad",
   "metadata": {},
   "outputs": [],
   "source": []
  },
  {
   "cell_type": "code",
   "execution_count": null,
   "id": "541b372b",
   "metadata": {},
   "outputs": [],
   "source": []
  },
  {
   "cell_type": "code",
   "execution_count": null,
   "id": "7d5d352b",
   "metadata": {},
   "outputs": [],
   "source": []
  },
  {
   "cell_type": "code",
   "execution_count": null,
   "id": "b042572f",
   "metadata": {},
   "outputs": [],
   "source": []
  },
  {
   "cell_type": "code",
   "execution_count": null,
   "id": "59396957",
   "metadata": {},
   "outputs": [],
   "source": []
  },
  {
   "cell_type": "code",
   "execution_count": null,
   "id": "87741d3f",
   "metadata": {},
   "outputs": [],
   "source": []
  },
  {
   "cell_type": "code",
   "execution_count": null,
   "id": "2350650e",
   "metadata": {},
   "outputs": [],
   "source": []
  },
  {
   "cell_type": "code",
   "execution_count": null,
   "id": "01ede3ad",
   "metadata": {},
   "outputs": [],
   "source": []
  },
  {
   "cell_type": "code",
   "execution_count": 28,
   "id": "13a60235",
   "metadata": {},
   "outputs": [],
   "source": [
    "basepath2 = '/home/pranav/Documents/ScikitAndPytorch/aclImdbsample/'"
   ]
  },
  {
   "cell_type": "code",
   "execution_count": 30,
   "id": "3c6f8159",
   "metadata": {},
   "outputs": [],
   "source": [
    "masterList = []\n",
    "\n",
    "for s in ('test', 'train'):\n",
    "    for l in ('pos', 'neg'):\n",
    "        path = os.path.join(basepath2, s, l)\n",
    "        \n",
    "        for file in sorted(os.listdir(path)):\n",
    "            infile = open(os.path.join(path,file))\n",
    "            txt = infile.read()\n",
    "            masterList.append([txt, l])\n",
    "        "
   ]
  },
  {
   "cell_type": "code",
   "execution_count": 31,
   "id": "604fba03",
   "metadata": {},
   "outputs": [
    {
     "data": {
      "text/plain": [
       "[\"I went and saw this movie last night after being coaxed to by a few friends of mine. I'll admit that I was reluctant to see it because from what I knew of Ashton Kutcher he was only able to do comedy. I was wrong. Kutcher played the character of Jake Fischer very well, and Kevin Costner played Ben Randall with such professionalism. The sign of a good movie is that it can toy with our emotions. This one did exactly that. The entire theater (which was sold out) was overcome by laughter during the first half of the movie, and were moved to tears during the second half. While exiting the theater I not only saw many women in tears, but many full grown men as well, trying desperately not to let anyone see them crying. This movie was great, and I suggest that you go see it before you judge.\",\n",
       " 'pos']"
      ]
     },
     "execution_count": 31,
     "metadata": {},
     "output_type": "execute_result"
    }
   ],
   "source": [
    "masterList[0]"
   ]
  },
  {
   "cell_type": "code",
   "execution_count": 33,
   "id": "f1960809",
   "metadata": {},
   "outputs": [],
   "source": [
    "df_trial = pd.DataFrame(data=masterList, columns=['review', 'sentiment'])"
   ]
  },
  {
   "cell_type": "code",
   "execution_count": 36,
   "id": "080bb526",
   "metadata": {},
   "outputs": [
    {
     "data": {
      "text/plain": [
       "0     I went and saw this movie last night after bei...\n",
       "1     If you had asked me how the movie was througho...\n",
       "2     I was looking forward to The Guardian, but whe...\n",
       "3     I was pleasantly surprised to find this movie ...\n",
       "4     My boyfriend and I went to watch The Guardian....\n",
       "5     My yardstick for measuring a movie's watch-abi...\n",
       "6     How many movies are there that you can think o...\n",
       "7     This movie was sadly under-promoted but proved...\n",
       "8     I only went to see this movie because I have a...\n",
       "9     I was fortunate enough to see this movie on pr...\n",
       "10    Our family (and the entire sold out sneak prev...\n",
       "11    I'm a Petty Officer 1st Class (E-6) and have b...\n",
       "12    I've seen this story before but my kids haven'...\n",
       "13    Once again Mr. Costner has dragged out a movie...\n",
       "14    Years ago, when DARLING LILI played on TV, it ...\n",
       "15    Julie Andrews satirically prods her own goody-...\n",
       "16    This is a pale imitation of 'Officer and a Gen...\n",
       "17    It seems ever since 1982, about every two or t...\n",
       "18    Wow, another Kevin Costner hero movie. Postman...\n",
       "19    Alas, another Costner movie that was an hour t...\n",
       "20    I wish I knew what to make of a movie like thi...\n",
       "21    A tough sell: British playwright Ronald Harwoo...\n",
       "22    Blake Edwards' legendary fiasco, begins to see...\n",
       "23    I'm not a big fan of musicals, although this t...\n",
       "24    David Bryce's comments nearby are exceptionall...\n",
       "25    Bromwell High is a cartoon comedy. It ran at t...\n",
       "26    If you like adult comedy cartoons, like South ...\n",
       "27    Bromwell High is nothing short of brilliant. E...\n",
       "28    \"All the world's a stage and its people actors...\n",
       "29    FUTZ is the only show preserved from the exper...\n",
       "30    I came in in the middle of this film so I had ...\n",
       "31    Fair drama/love story movie that focuses on th...\n",
       "32    Although I didn't like Stanley & Iris tremendo...\n",
       "33    Very good drama although it appeared to have a...\n",
       "34    Story of a man who has unnatural feelings for ...\n",
       "35    This film had a lot of promise, and the plot w...\n",
       "36    Robert DeNiro plays the most unbelievably inte...\n",
       "37    I saw the capsule comment said \"great acting.\"...\n",
       "38    If I had not read Pat Barker's 'Union Street' ...\n",
       "39    This fanciful horror flick has Vincent Price p...\n",
       "40    I basically skimmed through the movie but just...\n",
       "41    From the beginning of the movie, it gives the ...\n",
       "42    This is really a new low in entertainment. Eve...\n",
       "43    6/10 Acting, not great but some good acting.<b...\n",
       "44    This is one of the dumbest films, I've ever se...\n",
       "Name: review, dtype: object"
      ]
     },
     "execution_count": 36,
     "metadata": {},
     "output_type": "execute_result"
    }
   ],
   "source": [
    "df_trial['review']"
   ]
  },
  {
   "cell_type": "code",
   "execution_count": 23,
   "id": "26060e65",
   "metadata": {},
   "outputs": [
    {
     "data": {
      "text/plain": [
       "'0_10.txt'"
      ]
     },
     "execution_count": 23,
     "metadata": {},
     "output_type": "execute_result"
    }
   ],
   "source": [
    "sorted(os.listdir(path))[0]"
   ]
  },
  {
   "cell_type": "code",
   "execution_count": 24,
   "id": "ebec7393",
   "metadata": {},
   "outputs": [],
   "source": [
    "infile = open(os.path.join(path, sorted(os.listdir(path))[0]), 'r', encoding='utf-8')\n",
    "\n",
    "txt = infile.read()"
   ]
  },
  {
   "cell_type": "code",
   "execution_count": 26,
   "id": "a0323cf8",
   "metadata": {},
   "outputs": [
    {
     "data": {
      "text/plain": [
       "[\"I went and saw this movie last night after being coaxed to by a few friends of mine. I'll admit that I was reluctant to see it because from what I knew of Ashton Kutcher he was only able to do comedy. I was wrong. Kutcher played the character of Jake Fischer very well, and Kevin Costner played Ben Randall with such professionalism. The sign of a good movie is that it can toy with our emotions. This one did exactly that. The entire theater (which was sold out) was overcome by laughter during the first half of the movie, and were moved to tears during the second half. While exiting the theater I not only saw many women in tears, but many full grown men as well, trying desperately not to let anyone see them crying. This movie was great, and I suggest that you go see it before you judge.\",\n",
       " 'pos']"
      ]
     },
     "execution_count": 26,
     "metadata": {},
     "output_type": "execute_result"
    }
   ],
   "source": [
    "[txt, 'pos']"
   ]
  },
  {
   "cell_type": "code",
   "execution_count": null,
   "id": "7078882f",
   "metadata": {},
   "outputs": [],
   "source": []
  }
 ],
 "metadata": {
  "kernelspec": {
   "display_name": "Python 3 (ipykernel)",
   "language": "python",
   "name": "python3"
  },
  "language_info": {
   "codemirror_mode": {
    "name": "ipython",
    "version": 3
   },
   "file_extension": ".py",
   "mimetype": "text/x-python",
   "name": "python",
   "nbconvert_exporter": "python",
   "pygments_lexer": "ipython3",
   "version": "3.10.12"
  }
 },
 "nbformat": 4,
 "nbformat_minor": 5
}
